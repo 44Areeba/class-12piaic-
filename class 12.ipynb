{
 "cells": [
  {
   "cell_type": "markdown",
   "id": "23956200",
   "metadata": {},
   "source": [
    "### Function Copy"
   ]
  },
  {
   "cell_type": "code",
   "execution_count": 5,
   "id": "1a0ff457",
   "metadata": {},
   "outputs": [],
   "source": [
    "def welcome():\n",
    "    print(\"Welcome to my channel\")"
   ]
  },
  {
   "cell_type": "code",
   "execution_count": 6,
   "id": "d5e7cf3c",
   "metadata": {},
   "outputs": [
    {
     "name": "stdout",
     "output_type": "stream",
     "text": [
      "Welcome to my channel\n"
     ]
    }
   ],
   "source": [
    "welcome()"
   ]
  },
  {
   "cell_type": "code",
   "execution_count": 9,
   "id": "2b3090d3",
   "metadata": {},
   "outputs": [
    {
     "name": "stdout",
     "output_type": "stream",
     "text": [
      "Welcome to my channel\n"
     ]
    }
   ],
   "source": [
    "well=welcome()"
   ]
  },
  {
   "cell_type": "code",
   "execution_count": 10,
   "id": "9f381af3",
   "metadata": {},
   "outputs": [
    {
     "name": "stdout",
     "output_type": "stream",
     "text": [
      "None\n"
     ]
    }
   ],
   "source": [
    "print(well)"
   ]
  },
  {
   "cell_type": "code",
   "execution_count": 11,
   "id": "d7a86ba1",
   "metadata": {},
   "outputs": [],
   "source": [
    "def welcome():\n",
    "    return \"Welcome to my channel\""
   ]
  },
  {
   "cell_type": "code",
   "execution_count": 14,
   "id": "f9ef57d1",
   "metadata": {},
   "outputs": [],
   "source": [
    "well=welcome()"
   ]
  },
  {
   "cell_type": "code",
   "execution_count": 15,
   "id": "fcb4042d",
   "metadata": {},
   "outputs": [
    {
     "name": "stdout",
     "output_type": "stream",
     "text": [
      "Welcome to my channel\n"
     ]
    }
   ],
   "source": [
    "print(well)"
   ]
  },
  {
   "cell_type": "code",
   "execution_count": 16,
   "id": "875a5a22",
   "metadata": {},
   "outputs": [
    {
     "data": {
      "text/plain": [
       "'Welcome to my channel'"
      ]
     },
     "execution_count": 16,
     "metadata": {},
     "output_type": "execute_result"
    }
   ],
   "source": [
    "well"
   ]
  },
  {
   "cell_type": "code",
   "execution_count": 17,
   "id": "3ac0aec7",
   "metadata": {},
   "outputs": [],
   "source": [
    "del welcome"
   ]
  },
  {
   "cell_type": "code",
   "execution_count": 19,
   "id": "b90d90ad",
   "metadata": {},
   "outputs": [
    {
     "ename": "NameError",
     "evalue": "name 'welcome' is not defined",
     "output_type": "error",
     "traceback": [
      "\u001b[1;31m---------------------------------------------------------------------------\u001b[0m",
      "\u001b[1;31mNameError\u001b[0m                                 Traceback (most recent call last)",
      "\u001b[1;32m<ipython-input-19-a401d7101853>\u001b[0m in \u001b[0;36m<module>\u001b[1;34m\u001b[0m\n\u001b[1;32m----> 1\u001b[1;33m \u001b[0mwelcome\u001b[0m\u001b[1;33m(\u001b[0m\u001b[1;33m)\u001b[0m\u001b[1;33m\u001b[0m\u001b[1;33m\u001b[0m\u001b[0m\n\u001b[0m",
      "\u001b[1;31mNameError\u001b[0m: name 'welcome' is not defined"
     ]
    }
   ],
   "source": [
    "welcome()"
   ]
  },
  {
   "cell_type": "markdown",
   "id": "b903230a",
   "metadata": {},
   "source": [
    "### Closures  ###\n",
    "function inside a function is called closure function"
   ]
  },
  {
   "cell_type": "code",
   "execution_count": 22,
   "id": "97f8ae5e",
   "metadata": {},
   "outputs": [],
   "source": [
    "def grandparent(msg):\n",
    "    def parent(msg):\n",
    "        def child():\n",
    "            \n",
    "            print(\"Welcome to my child\")\n",
    "            print(msg)\n",
    "            \n",
    "        return child()\n",
    "    return parent(msg)"
   ]
  },
  {
   "cell_type": "code",
   "execution_count": 23,
   "id": "30c1461f",
   "metadata": {},
   "outputs": [
    {
     "name": "stdout",
     "output_type": "stream",
     "text": [
      "Welcome to my child\n",
      "Hello everyone\n"
     ]
    }
   ],
   "source": [
    "grandparent(\"Hello everyone\")"
   ]
  },
  {
   "cell_type": "code",
   "execution_count": 24,
   "id": "d450f8bc",
   "metadata": {},
   "outputs": [],
   "source": [
    "def parent(func):\n",
    "    def child():\n",
    "        print(\"welcome\")\n",
    "        func(\"Pakistan\")\n",
    "        print(\"Please come in\")\n",
    "    return child()    "
   ]
  },
  {
   "cell_type": "code",
   "execution_count": 25,
   "id": "1764c508",
   "metadata": {},
   "outputs": [
    {
     "name": "stdout",
     "output_type": "stream",
     "text": [
      "welcome\n",
      "Pakistan\n",
      "Please come in\n"
     ]
    }
   ],
   "source": [
    "parent(print)"
   ]
  },
  {
   "cell_type": "code",
   "execution_count": 27,
   "id": "3dedc515",
   "metadata": {},
   "outputs": [],
   "source": [
    "def cityname():\n",
    "    print(\"This is karachi\")"
   ]
  },
  {
   "cell_type": "code",
   "execution_count": 28,
   "id": "cd4b1e32",
   "metadata": {},
   "outputs": [],
   "source": [
    "def parent(func):\n",
    "    def child():\n",
    "        print(\"Welcome\")\n",
    "        func()\n",
    "        print(\"Please come in\")\n",
    "    return child()    "
   ]
  },
  {
   "cell_type": "code",
   "execution_count": 30,
   "id": "bb92bc01",
   "metadata": {},
   "outputs": [
    {
     "name": "stdout",
     "output_type": "stream",
     "text": [
      "Welcome\n",
      "This is karachi\n",
      "Please come in\n"
     ]
    }
   ],
   "source": [
    "parent(cityname)"
   ]
  },
  {
   "cell_type": "markdown",
   "id": "47f9ccfd",
   "metadata": {},
   "source": [
    "### Decorators ###"
   ]
  },
  {
   "cell_type": "code",
   "execution_count": 33,
   "id": "ced88ff9",
   "metadata": {},
   "outputs": [],
   "source": [
    "def profile_fetcher(f):#profile builder\n",
    "    name=\"nasir\"\n",
    "    Class=\"navy\"\n",
    "    \n",
    "    profile=f(n=name,c=Class)\n",
    "    print(profile)"
   ]
  },
  {
   "cell_type": "code",
   "execution_count": 38,
   "id": "384f4d73",
   "metadata": {},
   "outputs": [
    {
     "name": "stdout",
     "output_type": "stream",
     "text": [
      "{'n': 'nasir', 'c': 'navy'}\n"
     ]
    }
   ],
   "source": [
    "@profile_fetcher\n",
    "def profile_builder(**details):\n",
    "    profile={}\n",
    "    for k,v in details.items():\n",
    "        profile[k]=v\n",
    "    return(profile)"
   ]
  },
  {
   "cell_type": "code",
   "execution_count": 39,
   "id": "a3abf4fd",
   "metadata": {},
   "outputs": [],
   "source": [
    "def mydeco(func):\n",
    "    name=input(\"Enter a name\")\n",
    "    invite=func(name)\n",
    "    print(invite)"
   ]
  },
  {
   "cell_type": "code",
   "execution_count": 42,
   "id": "7f9b1525",
   "metadata": {},
   "outputs": [
    {
     "name": "stdout",
     "output_type": "stream",
     "text": [
      "Enter a nameareeba\n",
      "welcome areeba\n"
     ]
    }
   ],
   "source": [
    "@mydeco\n",
    "def greetings(guest_name):\n",
    "    return f\"welcome {guest_name}\""
   ]
  },
  {
   "cell_type": "markdown",
   "id": "3325d3a0",
   "metadata": {},
   "source": [
    "### iterators ###"
   ]
  },
  {
   "cell_type": "code",
   "execution_count": 43,
   "id": "4c0566d5",
   "metadata": {},
   "outputs": [
    {
     "name": "stdout",
     "output_type": "stream",
     "text": [
      "22\n",
      "33\n",
      "44\n",
      "55\n",
      "66\n"
     ]
    }
   ],
   "source": [
    "l=[22,33,44,55,66]\n",
    "#list is a collection of element\n",
    "#since we can iterate every element of the list that we call list as iterable\n",
    "\n",
    "for a in l:\n",
    "    print(a)\n",
    "    \n",
    "# for loop is an iterator    "
   ]
  },
  {
   "cell_type": "code",
   "execution_count": 44,
   "id": "7db0eb68",
   "metadata": {},
   "outputs": [
    {
     "data": {
      "text/plain": [
       "list_iterator"
      ]
     },
     "execution_count": 44,
     "metadata": {},
     "output_type": "execute_result"
    }
   ],
   "source": [
    "#We can create an iterator by using \"iter()\"\n",
    "iterable=iter(l)\n",
    "type(iterable)"
   ]
  },
  {
   "cell_type": "code",
   "execution_count": 45,
   "id": "2ba426fa",
   "metadata": {},
   "outputs": [
    {
     "data": {
      "text/plain": [
       "22"
      ]
     },
     "execution_count": 45,
     "metadata": {},
     "output_type": "execute_result"
    }
   ],
   "source": [
    "a= next (iterable)\n",
    "a"
   ]
  },
  {
   "cell_type": "code",
   "execution_count": 46,
   "id": "a0a5f2f6",
   "metadata": {},
   "outputs": [
    {
     "name": "stdout",
     "output_type": "stream",
     "text": [
      "33\n"
     ]
    }
   ],
   "source": [
    "try:\n",
    "    print(next(iterable))\n",
    "except:\n",
    "    print(\"iterable is empty now\")"
   ]
  },
  {
   "cell_type": "markdown",
   "id": "cdc77767",
   "metadata": {},
   "source": [
    "### Generator ###\n",
    "we will create a iterator using generator technique"
   ]
  },
  {
   "cell_type": "code",
   "execution_count": 54,
   "id": "e4a0cc9b",
   "metadata": {},
   "outputs": [
    {
     "name": "stdout",
     "output_type": "stream",
     "text": [
      "<generator object square_numbers at 0x00000221E22743C0>\n"
     ]
    }
   ],
   "source": [
    "def square_number(num):\n",
    "    result=[]\n",
    "    for i in num:\n",
    "        if i%2==0:\n",
    "            result.append(i*i)\n",
    "    return(result)\n",
    "\n",
    "my_num=square_numbers([1,2,3,4,5])\n",
    "print(my_num)"
   ]
  },
  {
   "cell_type": "code",
   "execution_count": 56,
   "id": "56e4db70",
   "metadata": {},
   "outputs": [],
   "source": [
    "def square_numbers(nums):\n",
    "    for i in nums:\n",
    "        yield(i**2)\n",
    "    my_nums=square_numbers([1,2,3,4,5])\n",
    "    print(my_nums)"
   ]
  },
  {
   "cell_type": "code",
   "execution_count": 57,
   "id": "0576a31c",
   "metadata": {},
   "outputs": [
    {
     "data": {
      "text/plain": [
       "1"
      ]
     },
     "execution_count": 57,
     "metadata": {},
     "output_type": "execute_result"
    }
   ],
   "source": [
    "next(my_nums)"
   ]
  },
  {
   "cell_type": "code",
   "execution_count": null,
   "id": "6b454e04",
   "metadata": {},
   "outputs": [],
   "source": []
  }
 ],
 "metadata": {
  "kernelspec": {
   "display_name": "Python 3",
   "language": "python",
   "name": "python3"
  },
  "language_info": {
   "codemirror_mode": {
    "name": "ipython",
    "version": 3
   },
   "file_extension": ".py",
   "mimetype": "text/x-python",
   "name": "python",
   "nbconvert_exporter": "python",
   "pygments_lexer": "ipython3",
   "version": "3.8.8"
  }
 },
 "nbformat": 4,
 "nbformat_minor": 5
}
